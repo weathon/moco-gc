{
 "cells": [
  {
   "cell_type": "code",
   "execution_count": 2,
   "metadata": {},
   "outputs": [
    {
     "ename": "RuntimeError",
     "evalue": "Error(s) in loading state_dict for DataParallel:\n\tMissing key(s) in state_dict: \"module.encoder_q.bert.layers.8.self_attn.in_proj_weight\", \"module.encoder_q.bert.layers.8.self_attn.in_proj_bias\", \"module.encoder_q.bert.layers.8.self_attn.out_proj.weight\", \"module.encoder_q.bert.layers.8.self_attn.out_proj.bias\", \"module.encoder_q.bert.layers.8.linear1.weight\", \"module.encoder_q.bert.layers.8.linear1.bias\", \"module.encoder_q.bert.layers.8.linear2.weight\", \"module.encoder_q.bert.layers.8.linear2.bias\", \"module.encoder_q.bert.layers.8.norm1.weight\", \"module.encoder_q.bert.layers.8.norm1.bias\", \"module.encoder_q.bert.layers.8.norm2.weight\", \"module.encoder_q.bert.layers.8.norm2.bias\", \"module.encoder_q.bert.layers.9.self_attn.in_proj_weight\", \"module.encoder_q.bert.layers.9.self_attn.in_proj_bias\", \"module.encoder_q.bert.layers.9.self_attn.out_proj.weight\", \"module.encoder_q.bert.layers.9.self_attn.out_proj.bias\", \"module.encoder_q.bert.layers.9.linear1.weight\", \"module.encoder_q.bert.layers.9.linear1.bias\", \"module.encoder_q.bert.layers.9.linear2.weight\", \"module.encoder_q.bert.layers.9.linear2.bias\", \"module.encoder_q.bert.layers.9.norm1.weight\", \"module.encoder_q.bert.layers.9.norm1.bias\", \"module.encoder_q.bert.layers.9.norm2.weight\", \"module.encoder_q.bert.layers.9.norm2.bias\", \"module.encoder_q.bert.layers.10.self_attn.in_proj_weight\", \"module.encoder_q.bert.layers.10.self_attn.in_proj_bias\", \"module.encoder_q.bert.layers.10.self_attn.out_proj.weight\", \"module.encoder_q.bert.layers.10.self_attn.out_proj.bias\", \"module.encoder_q.bert.layers.10.linear1.weight\", \"module.encoder_q.bert.layers.10.linear1.bias\", \"module.encoder_q.bert.layers.10.linear2.weight\", \"module.encoder_q.bert.layers.10.linear2.bias\", \"module.encoder_q.bert.layers.10.norm1.weight\", \"module.encoder_q.bert.layers.10.norm1.bias\", \"module.encoder_q.bert.layers.10.norm2.weight\", \"module.encoder_q.bert.layers.10.norm2.bias\", \"module.encoder_q.bert.layers.11.self_attn.in_proj_weight\", \"module.encoder_q.bert.layers.11.self_attn.in_proj_bias\", \"module.encoder_q.bert.layers.11.self_attn.out_proj.weight\", \"module.encoder_q.bert.layers.11.self_attn.out_proj.bias\", \"module.encoder_q.bert.layers.11.linear1.weight\", \"module.encoder_q.bert.layers.11.linear1.bias\", \"module.encoder_q.bert.layers.11.linear2.weight\", \"module.encoder_q.bert.layers.11.linear2.bias\", \"module.encoder_q.bert.layers.11.norm1.weight\", \"module.encoder_q.bert.layers.11.norm1.bias\", \"module.encoder_q.bert.layers.11.norm2.weight\", \"module.encoder_q.bert.layers.11.norm2.bias\", \"module.encoder_k.bert.layers.8.self_attn.in_proj_weight\", \"module.encoder_k.bert.layers.8.self_attn.in_proj_bias\", \"module.encoder_k.bert.layers.8.self_attn.out_proj.weight\", \"module.encoder_k.bert.layers.8.self_attn.out_proj.bias\", \"module.encoder_k.bert.layers.8.linear1.weight\", \"module.encoder_k.bert.layers.8.linear1.bias\", \"module.encoder_k.bert.layers.8.linear2.weight\", \"module.encoder_k.bert.layers.8.linear2.bias\", \"module.encoder_k.bert.layers.8.norm1.weight\", \"module.encoder_k.bert.layers.8.norm1.bias\", \"module.encoder_k.bert.layers.8.norm2.weight\", \"module.encoder_k.bert.layers.8.norm2.bias\", \"module.encoder_k.bert.layers.9.self_attn.in_proj_weight\", \"module.encoder_k.bert.layers.9.self_attn.in_proj_bias\", \"module.encoder_k.bert.layers.9.self_attn.out_proj.weight\", \"module.encoder_k.bert.layers.9.self_attn.out_proj.bias\", \"module.encoder_k.bert.layers.9.linear1.weight\", \"module.encoder_k.bert.layers.9.linear1.bias\", \"module.encoder_k.bert.layers.9.linear2.weight\", \"module.encoder_k.bert.layers.9.linear2.bias\", \"module.encoder_k.bert.layers.9.norm1.weight\", \"module.encoder_k.bert.layers.9.norm1.bias\", \"module.encoder_k.bert.layers.9.norm2.weight\", \"module.encoder_k.bert.layers.9.norm2.bias\", \"module.encoder_k.bert.layers.10.self_attn.in_proj_weight\", \"module.encoder_k.bert.layers.10.self_attn.in_proj_bias\", \"module.encoder_k.bert.layers.10.self_attn.out_proj.weight\", \"module.encoder_k.bert.layers.10.self_attn.out_proj.bias\", \"module.encoder_k.bert.layers.10.linear1.weight\", \"module.encoder_k.bert.layers.10.linear1.bias\", \"module.encoder_k.bert.layers.10.linear2.weight\", \"module.encoder_k.bert.layers.10.linear2.bias\", \"module.encoder_k.bert.layers.10.norm1.weight\", \"module.encoder_k.bert.layers.10.norm1.bias\", \"module.encoder_k.bert.layers.10.norm2.weight\", \"module.encoder_k.bert.layers.10.norm2.bias\", \"module.encoder_k.bert.layers.11.self_attn.in_proj_weight\", \"module.encoder_k.bert.layers.11.self_attn.in_proj_bias\", \"module.encoder_k.bert.layers.11.self_attn.out_proj.weight\", \"module.encoder_k.bert.layers.11.self_attn.out_proj.bias\", \"module.encoder_k.bert.layers.11.linear1.weight\", \"module.encoder_k.bert.layers.11.linear1.bias\", \"module.encoder_k.bert.layers.11.linear2.weight\", \"module.encoder_k.bert.layers.11.linear2.bias\", \"module.encoder_k.bert.layers.11.norm1.weight\", \"module.encoder_k.bert.layers.11.norm1.bias\", \"module.encoder_k.bert.layers.11.norm2.weight\", \"module.encoder_k.bert.layers.11.norm2.bias\". \n\tsize mismatch for module.encoder_q.pos.weight: copying a param with shape torch.Size([102, 256]) from checkpoint, the shape in current model is torch.Size([52, 256]).\n\tsize mismatch for module.encoder_k.pos.weight: copying a param with shape torch.Size([102, 256]) from checkpoint, the shape in current model is torch.Size([52, 256]).",
     "output_type": "error",
     "traceback": [
      "\u001b[0;31m---------------------------------------------------------------------------\u001b[0m",
      "\u001b[0;31mRuntimeError\u001b[0m                              Traceback (most recent call last)",
      "Cell \u001b[0;32mIn[2], line 29\u001b[0m\n\u001b[1;32m     26\u001b[0m \u001b[38;5;66;03m# mod = torch.load(\"1.pth.tar\")\u001b[39;00m\n\u001b[1;32m     27\u001b[0m \u001b[38;5;66;03m# mod = torch.load(\"../../checkpoint_0000.pth.tar\")\u001b[39;00m\n\u001b[1;32m     28\u001b[0m mod \u001b[38;5;241m=\u001b[39m torch\u001b[38;5;241m.\u001b[39mload(\u001b[38;5;124m\"\u001b[39m\u001b[38;5;124mcheckpoint_0020.pth.tar\u001b[39m\u001b[38;5;124m\"\u001b[39m)\n\u001b[0;32m---> 29\u001b[0m \u001b[43mmodel\u001b[49m\u001b[38;5;241;43m.\u001b[39;49m\u001b[43mload_state_dict\u001b[49m\u001b[43m(\u001b[49m\u001b[43mmod\u001b[49m\u001b[43m[\u001b[49m\u001b[38;5;124;43m\"\u001b[39;49m\u001b[38;5;124;43mstate_dict\u001b[39;49m\u001b[38;5;124;43m\"\u001b[39;49m\u001b[43m]\u001b[49m\u001b[43m)\u001b[49m \n\u001b[1;32m     31\u001b[0m model \u001b[38;5;241m=\u001b[39m model\u001b[38;5;241m.\u001b[39mmodule\u001b[38;5;241m.\u001b[39mencoder_q\n",
      "File \u001b[0;32m~/.local/lib/python3.8/site-packages/torch/nn/modules/module.py:2153\u001b[0m, in \u001b[0;36mModule.load_state_dict\u001b[0;34m(self, state_dict, strict, assign)\u001b[0m\n\u001b[1;32m   2148\u001b[0m         error_msgs\u001b[38;5;241m.\u001b[39minsert(\n\u001b[1;32m   2149\u001b[0m             \u001b[38;5;241m0\u001b[39m, \u001b[38;5;124m'\u001b[39m\u001b[38;5;124mMissing key(s) in state_dict: \u001b[39m\u001b[38;5;132;01m{}\u001b[39;00m\u001b[38;5;124m. \u001b[39m\u001b[38;5;124m'\u001b[39m\u001b[38;5;241m.\u001b[39mformat(\n\u001b[1;32m   2150\u001b[0m                 \u001b[38;5;124m'\u001b[39m\u001b[38;5;124m, \u001b[39m\u001b[38;5;124m'\u001b[39m\u001b[38;5;241m.\u001b[39mjoin(\u001b[38;5;124mf\u001b[39m\u001b[38;5;124m'\u001b[39m\u001b[38;5;124m\"\u001b[39m\u001b[38;5;132;01m{\u001b[39;00mk\u001b[38;5;132;01m}\u001b[39;00m\u001b[38;5;124m\"\u001b[39m\u001b[38;5;124m'\u001b[39m \u001b[38;5;28;01mfor\u001b[39;00m k \u001b[38;5;129;01min\u001b[39;00m missing_keys)))\n\u001b[1;32m   2152\u001b[0m \u001b[38;5;28;01mif\u001b[39;00m \u001b[38;5;28mlen\u001b[39m(error_msgs) \u001b[38;5;241m>\u001b[39m \u001b[38;5;241m0\u001b[39m:\n\u001b[0;32m-> 2153\u001b[0m     \u001b[38;5;28;01mraise\u001b[39;00m \u001b[38;5;167;01mRuntimeError\u001b[39;00m(\u001b[38;5;124m'\u001b[39m\u001b[38;5;124mError(s) in loading state_dict for \u001b[39m\u001b[38;5;132;01m{}\u001b[39;00m\u001b[38;5;124m:\u001b[39m\u001b[38;5;130;01m\\n\u001b[39;00m\u001b[38;5;130;01m\\t\u001b[39;00m\u001b[38;5;132;01m{}\u001b[39;00m\u001b[38;5;124m'\u001b[39m\u001b[38;5;241m.\u001b[39mformat(\n\u001b[1;32m   2154\u001b[0m                        \u001b[38;5;28mself\u001b[39m\u001b[38;5;241m.\u001b[39m\u001b[38;5;18m__class__\u001b[39m\u001b[38;5;241m.\u001b[39m\u001b[38;5;18m__name__\u001b[39m, \u001b[38;5;124m\"\u001b[39m\u001b[38;5;130;01m\\n\u001b[39;00m\u001b[38;5;130;01m\\t\u001b[39;00m\u001b[38;5;124m\"\u001b[39m\u001b[38;5;241m.\u001b[39mjoin(error_msgs)))\n\u001b[1;32m   2155\u001b[0m \u001b[38;5;28;01mreturn\u001b[39;00m _IncompatibleKeys(missing_keys, unexpected_keys)\n",
      "\u001b[0;31mRuntimeError\u001b[0m: Error(s) in loading state_dict for DataParallel:\n\tMissing key(s) in state_dict: \"module.encoder_q.bert.layers.8.self_attn.in_proj_weight\", \"module.encoder_q.bert.layers.8.self_attn.in_proj_bias\", \"module.encoder_q.bert.layers.8.self_attn.out_proj.weight\", \"module.encoder_q.bert.layers.8.self_attn.out_proj.bias\", \"module.encoder_q.bert.layers.8.linear1.weight\", \"module.encoder_q.bert.layers.8.linear1.bias\", \"module.encoder_q.bert.layers.8.linear2.weight\", \"module.encoder_q.bert.layers.8.linear2.bias\", \"module.encoder_q.bert.layers.8.norm1.weight\", \"module.encoder_q.bert.layers.8.norm1.bias\", \"module.encoder_q.bert.layers.8.norm2.weight\", \"module.encoder_q.bert.layers.8.norm2.bias\", \"module.encoder_q.bert.layers.9.self_attn.in_proj_weight\", \"module.encoder_q.bert.layers.9.self_attn.in_proj_bias\", \"module.encoder_q.bert.layers.9.self_attn.out_proj.weight\", \"module.encoder_q.bert.layers.9.self_attn.out_proj.bias\", \"module.encoder_q.bert.layers.9.linear1.weight\", \"module.encoder_q.bert.layers.9.linear1.bias\", \"module.encoder_q.bert.layers.9.linear2.weight\", \"module.encoder_q.bert.layers.9.linear2.bias\", \"module.encoder_q.bert.layers.9.norm1.weight\", \"module.encoder_q.bert.layers.9.norm1.bias\", \"module.encoder_q.bert.layers.9.norm2.weight\", \"module.encoder_q.bert.layers.9.norm2.bias\", \"module.encoder_q.bert.layers.10.self_attn.in_proj_weight\", \"module.encoder_q.bert.layers.10.self_attn.in_proj_bias\", \"module.encoder_q.bert.layers.10.self_attn.out_proj.weight\", \"module.encoder_q.bert.layers.10.self_attn.out_proj.bias\", \"module.encoder_q.bert.layers.10.linear1.weight\", \"module.encoder_q.bert.layers.10.linear1.bias\", \"module.encoder_q.bert.layers.10.linear2.weight\", \"module.encoder_q.bert.layers.10.linear2.bias\", \"module.encoder_q.bert.layers.10.norm1.weight\", \"module.encoder_q.bert.layers.10.norm1.bias\", \"module.encoder_q.bert.layers.10.norm2.weight\", \"module.encoder_q.bert.layers.10.norm2.bias\", \"module.encoder_q.bert.layers.11.self_attn.in_proj_weight\", \"module.encoder_q.bert.layers.11.self_attn.in_proj_bias\", \"module.encoder_q.bert.layers.11.self_attn.out_proj.weight\", \"module.encoder_q.bert.layers.11.self_attn.out_proj.bias\", \"module.encoder_q.bert.layers.11.linear1.weight\", \"module.encoder_q.bert.layers.11.linear1.bias\", \"module.encoder_q.bert.layers.11.linear2.weight\", \"module.encoder_q.bert.layers.11.linear2.bias\", \"module.encoder_q.bert.layers.11.norm1.weight\", \"module.encoder_q.bert.layers.11.norm1.bias\", \"module.encoder_q.bert.layers.11.norm2.weight\", \"module.encoder_q.bert.layers.11.norm2.bias\", \"module.encoder_k.bert.layers.8.self_attn.in_proj_weight\", \"module.encoder_k.bert.layers.8.self_attn.in_proj_bias\", \"module.encoder_k.bert.layers.8.self_attn.out_proj.weight\", \"module.encoder_k.bert.layers.8.self_attn.out_proj.bias\", \"module.encoder_k.bert.layers.8.linear1.weight\", \"module.encoder_k.bert.layers.8.linear1.bias\", \"module.encoder_k.bert.layers.8.linear2.weight\", \"module.encoder_k.bert.layers.8.linear2.bias\", \"module.encoder_k.bert.layers.8.norm1.weight\", \"module.encoder_k.bert.layers.8.norm1.bias\", \"module.encoder_k.bert.layers.8.norm2.weight\", \"module.encoder_k.bert.layers.8.norm2.bias\", \"module.encoder_k.bert.layers.9.self_attn.in_proj_weight\", \"module.encoder_k.bert.layers.9.self_attn.in_proj_bias\", \"module.encoder_k.bert.layers.9.self_attn.out_proj.weight\", \"module.encoder_k.bert.layers.9.self_attn.out_proj.bias\", \"module.encoder_k.bert.layers.9.linear1.weight\", \"module.encoder_k.bert.layers.9.linear1.bias\", \"module.encoder_k.bert.layers.9.linear2.weight\", \"module.encoder_k.bert.layers.9.linear2.bias\", \"module.encoder_k.bert.layers.9.norm1.weight\", \"module.encoder_k.bert.layers.9.norm1.bias\", \"module.encoder_k.bert.layers.9.norm2.weight\", \"module.encoder_k.bert.layers.9.norm2.bias\", \"module.encoder_k.bert.layers.10.self_attn.in_proj_weight\", \"module.encoder_k.bert.layers.10.self_attn.in_proj_bias\", \"module.encoder_k.bert.layers.10.self_attn.out_proj.weight\", \"module.encoder_k.bert.layers.10.self_attn.out_proj.bias\", \"module.encoder_k.bert.layers.10.linear1.weight\", \"module.encoder_k.bert.layers.10.linear1.bias\", \"module.encoder_k.bert.layers.10.linear2.weight\", \"module.encoder_k.bert.layers.10.linear2.bias\", \"module.encoder_k.bert.layers.10.norm1.weight\", \"module.encoder_k.bert.layers.10.norm1.bias\", \"module.encoder_k.bert.layers.10.norm2.weight\", \"module.encoder_k.bert.layers.10.norm2.bias\", \"module.encoder_k.bert.layers.11.self_attn.in_proj_weight\", \"module.encoder_k.bert.layers.11.self_attn.in_proj_bias\", \"module.encoder_k.bert.layers.11.self_attn.out_proj.weight\", \"module.encoder_k.bert.layers.11.self_attn.out_proj.bias\", \"module.encoder_k.bert.layers.11.linear1.weight\", \"module.encoder_k.bert.layers.11.linear1.bias\", \"module.encoder_k.bert.layers.11.linear2.weight\", \"module.encoder_k.bert.layers.11.linear2.bias\", \"module.encoder_k.bert.layers.11.norm1.weight\", \"module.encoder_k.bert.layers.11.norm1.bias\", \"module.encoder_k.bert.layers.11.norm2.weight\", \"module.encoder_k.bert.layers.11.norm2.bias\". \n\tsize mismatch for module.encoder_q.pos.weight: copying a param with shape torch.Size([102, 256]) from checkpoint, the shape in current model is torch.Size([52, 256]).\n\tsize mismatch for module.encoder_k.pos.weight: copying a param with shape torch.Size([102, 256]) from checkpoint, the shape in current model is torch.Size([52, 256])."
     ]
    },
    {
     "ename": "",
     "evalue": "",
     "output_type": "error",
     "traceback": [
      "\u001b[1;31mThe Kernel crashed while executing code in the current cell or a previous cell. \n",
      "\u001b[1;31mPlease review the code in the cell(s) to identify a possible cause of the failure. \n",
      "\u001b[1;31mClick <a href='https://aka.ms/vscodeJupyterKernelCrash'>here</a> for more info. \n",
      "\u001b[1;31mView Jupyter <a href='command:jupyter.viewOutput'>log</a> for further details."
     ]
    }
   ],
   "source": [
    "import sys\n",
    "import json\n",
    "sys.path.append(\"../../\")\n",
    "import torch\n",
    "import torch.nn as nn\n",
    "\n",
    "with open(\"../../config.json\", \"r\") as f:\n",
    "    config = json.load(f)\n",
    "from model import BaseModel\n",
    "config[\"dim\"]=256\n",
    "config[\"N\"]=8\n",
    "config[\"embedding\"]=\"linear\"\n",
    "config[\"dots\"]=1200\n",
    "config[\"K\"]=64\n",
    "import moco.builder\n",
    "model = moco.builder.MoCo(\n",
    "    BaseModel,\n",
    "    config[\"K\"],\n",
    "    65536,\n",
    "    0.99,\n",
    "    0.08, \n",
    "    True,\n",
    ")\n",
    "model = model.train(True)\n",
    "model = torch.nn.DataParallel(model)\n",
    "# mod = torch.load(\"1.pth.tar\")\n",
    "# mod = torch.load(\"../../checkpoint_0000.pth.tar\")\n",
    "mod = torch.load(\"checkpoint_0020.pth.tar\")\n",
    "model.load_state_dict(mod[\"state_dict\"]) \n",
    "\n",
    "model = model.module.encoder_q"
   ]
  }
 ],
 "metadata": {
  "kernelspec": {
   "display_name": "Python 3",
   "language": "python",
   "name": "python3"
  },
  "language_info": {
   "codemirror_mode": {
    "name": "ipython",
    "version": 3
   },
   "file_extension": ".py",
   "mimetype": "text/x-python",
   "name": "python",
   "nbconvert_exporter": "python",
   "pygments_lexer": "ipython3",
   "version": "3.8.10"
  }
 },
 "nbformat": 4,
 "nbformat_minor": 2
}
